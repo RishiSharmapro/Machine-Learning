{
 "cells": [
  {
   "cell_type": "code",
   "execution_count": 108,
   "id": "7685bc4b",
   "metadata": {},
   "outputs": [],
   "source": [
    "import pandas as pd\n",
    "# pd.set_option(\"display.max_columns\", None)   # show all columns\n",
    "# pd.set_option(\"display.width\", None)         # don't wrap lines\n",
    "# pd.set_option(\"display.max_colwidth\", None)  # show full column names\n",
    "# pd.set_option(\"display.width\", 200)\n",
    "# pd.set_option(\"display.max_columns\", None)\n"
   ]
  },
  {
   "cell_type": "code",
   "execution_count": 109,
   "id": "de42d3d0",
   "metadata": {},
   "outputs": [
    {
     "name": "stdout",
     "output_type": "stream",
     "text": [
      "Original DataFrame:\n",
      "       name   age   salary         city\n",
      "0    Alice  25.0  50000.0     New York\n",
      "1      Bob   NaN  60000.0  Los Angeles\n",
      "2  Charlie  35.0  70000.0         None\n",
      "3     None   NaN      NaN      Chicago\n",
      "4    David  40.0      NaN      Houston\n"
     ]
    }
   ],
   "source": [
    "data = {\n",
    "    'name': ['Alice', 'Bob', 'Charlie', None, 'David'],\n",
    "    'age': [25, None, 35, None, 40],\n",
    "    'salary': [50000, 60000, 70000, None, None],\n",
    "    'city': ['New York', 'Los Angeles', None, 'Chicago', 'Houston']\n",
    "}\n",
    "\n",
    "df = pd.DataFrame(data)\n",
    "print(\"Original DataFrame:\\n\", df)"
   ]
  },
  {
   "cell_type": "code",
   "execution_count": 110,
   "id": "672798d0",
   "metadata": {},
   "outputs": [
    {
     "data": {
      "text/plain": [
       "name      1\n",
       "age       2\n",
       "salary    2\n",
       "city      1\n",
       "dtype: int64"
      ]
     },
     "execution_count": 110,
     "metadata": {},
     "output_type": "execute_result"
    }
   ],
   "source": [
    "df.isnull().sum()"
   ]
  },
  {
   "cell_type": "code",
   "execution_count": 111,
   "id": "c65083a1",
   "metadata": {},
   "outputs": [
    {
     "name": "stdout",
     "output_type": "stream",
     "text": [
      "DataFrame after dropping missing values:\n",
      "    name   age   salary      city\n",
      "0  Alice  25.0  50000.0  New York\n",
      "\n",
      "DataFrame after filling missing values:\n",
      "       name        age   salary         city\n",
      "0    Alice  25.000000  50000.0     New York\n",
      "1      Bob  33.333333  60000.0  Los Angeles\n",
      "2  Charlie  35.000000  70000.0      Unknown\n",
      "3  Unknown  33.333333  60000.0      Chicago\n",
      "4    David  40.000000  60000.0      Houston\n"
     ]
    }
   ],
   "source": [
    "df_drop = df.dropna()\n",
    "print(\"DataFrame after dropping missing values:\", df_drop, sep='\\n', end='\\n\\n')\n",
    "\n",
    "df_fill = df.fillna({\n",
    "    'name': 'Unknown',\n",
    "    'age': df['age'].mean(),\n",
    "    'salary': df['salary'].median(),\n",
    "    'city': 'Unknown'\n",
    "})\n",
    "print(\"DataFrame after filling missing values:\\n\", df_fill)"
   ]
  },
  {
   "cell_type": "code",
   "execution_count": 115,
   "id": "5038e401",
   "metadata": {},
   "outputs": [
    {
     "name": "stdout",
     "output_type": "stream",
     "text": [
      "['gender_Female' 'gender_Male' 'result_fail' 'result_pass']\n",
      "Using Label Encoding:\n",
      "      name  gender result  gender_encoded  result_encoded\n",
      "0    Alice  Female   pass               0               1\n",
      "1      Bob    Male   fail               1               0\n",
      "2  Charlie  Female   pass               0               1\n",
      "3    Tokyo  Female   pass               0               1\n",
      "4    David    Male   pass               1               1\n",
      "\n",
      "Using Ordinal Encoding:\n",
      "      name  gender result  gender_encoded  result_encoded\n",
      "0    Alice  Female   pass             0.0             1.0\n",
      "1      Bob    Male   fail             1.0             0.0\n",
      "2  Charlie  Female   pass             0.0             1.0\n",
      "3    Tokyo  Female   pass             0.0             1.0\n",
      "4    David    Male   pass             1.0             1.0\n",
      "\n",
      "Using One-Hot Encoding:\n",
      "      name  gender result  gender_Female  gender_Male  result_fail  result_pass\n",
      "0    Alice  Female   pass            1.0          0.0          0.0          1.0\n",
      "1      Bob    Male   fail            0.0          1.0          1.0          0.0\n",
      "2  Charlie  Female   pass            1.0          0.0          0.0          1.0\n",
      "3    Tokyo  Female   pass            1.0          0.0          0.0          1.0\n",
      "4    David    Male   pass            0.0          1.0          0.0          1.0\n"
     ]
    }
   ],
   "source": [
    "from sklearn.preprocessing import LabelEncoder, OrdinalEncoder, OneHotEncoder\n",
    "\n",
    "df = pd.DataFrame({\n",
    "    'name': ['Alice', 'Bob', 'Charlie', 'Tokyo', 'David'],\n",
    "    'gender': ['Female', 'Male', 'Female', None, 'Male'],\n",
    "    'result': ['pass', 'fail', 'pass', None, 'pass']\n",
    "})\n",
    "\n",
    "df_label = df.copy()\n",
    "\n",
    "df_label.ffill(inplace=True)\n",
    "df_ordinal = df_label.copy()\n",
    "df_onehot = df_label.copy()\n",
    "\n",
    "# initialize encoders\n",
    "le = LabelEncoder()\n",
    "oe = OrdinalEncoder()\n",
    "ohe = OneHotEncoder(sparse_output=False)\n",
    "\n",
    "# fit and transform the 'gender' and 'result' columns\n",
    "df_label['gender_encoded'] = le.fit_transform(df_label['gender'])\n",
    "df_label['result_encoded'] = le.fit_transform(df_label['result'])\n",
    "df_ordinal[['gender_encoded', 'result_encoded']] = oe.fit_transform(\n",
    "    df_ordinal[['gender', 'result']]\n",
    ")\n",
    "\n",
    "encoded_onehot = ohe.fit_transform(df_onehot[['gender', 'result']])\n",
    "encoded_columns = ohe.get_feature_names_out(['gender', 'result'])\n",
    "print(encoded_columns)\n",
    "df_onehot_encoded = pd.DataFrame(encoded_onehot, columns=encoded_columns, index=df_onehot.index)\n",
    "df_onehot = pd.concat([df_onehot, df_onehot_encoded], axis=1)\n",
    "\n",
    "print('Using Label Encoding:')\n",
    "print(df_label, end='\\n\\n')\n",
    "print('Using Ordinal Encoding:')\n",
    "print(df_ordinal, end='\\n\\n')\n",
    "print('Using One-Hot Encoding:')\n",
    "print(df_onehot)\n"
   ]
  },
  {
   "cell_type": "code",
   "execution_count": 120,
   "id": "614ee081",
   "metadata": {},
   "outputs": [
    {
     "name": "stdout",
     "output_type": "stream",
     "text": [
      "Scaled Data (Standard Scaler):\n",
      "   HoursStudied  MarksScored\n",
      "0     -1.566699    -1.417602\n",
      "1     -1.218544    -1.219613\n",
      "2     -0.870388    -1.219613\n",
      "3     -0.522233    -0.823635\n",
      "4     -0.174078     0.166311\n",
      "5      0.174078     0.562289\n",
      "6      0.522233     0.760278\n",
      "7      0.870388     0.958267\n",
      "8      1.218544     1.077061\n",
      "9      1.566699     1.156257\n",
      "\n",
      "Scaled Data (Min-Max Scaler):\n",
      "   HoursStudied  MarksScored\n",
      "0      0.000000     0.000000\n",
      "1      0.111111     0.076923\n",
      "2      0.222222     0.076923\n",
      "3      0.333333     0.230769\n",
      "4      0.444444     0.615385\n",
      "5      0.555556     0.769231\n",
      "6      0.666667     0.846154\n",
      "7      0.777778     0.923077\n",
      "8      0.888889     0.969231\n",
      "9      1.000000     1.000000\n",
      "Training Features:\n",
      "    HoursStudied\n",
      "5             6\n",
      "0             1\n",
      "7             8\n",
      "2             3\n",
      "9            10\n",
      "4             5\n",
      "3             4\n",
      "6             7\n",
      "\n",
      "Testing Features:\n",
      "    HoursStudied\n",
      "8             9\n",
      "1             2\n",
      "\n"
     ]
    }
   ],
   "source": [
    "# feature scaling and test data splitting \n",
    "from sklearn.preprocessing import StandardScaler, MinMaxScaler\n",
    "from sklearn.model_selection import train_test_split\n",
    "\n",
    "scaler = StandardScaler() \n",
    "minmax_scaler = MinMaxScaler()\n",
    "\n",
    "df = pd.DataFrame({\n",
    "    'HoursStudied': [1, 2, 3, 4, 5, 6, 7, 8, 9, 10],\n",
    "    'MarksScored': [35, 40, 40, 50, 75, 85, 90, 95, 98, 100]\n",
    "})\n",
    "\n",
    "# formula used: Z = (X - μ) / σ\n",
    "scaled_data = scaler.fit_transform(df)\n",
    "scaled_df = pd.DataFrame(scaled_data, columns=df.columns)\n",
    "\n",
    "# formula used: X' = (X - Xmin) / (Xmax - Xmin)\n",
    "minmax_scaled_data = minmax_scaler.fit_transform(df)\n",
    "minmax_scaled_df = pd.DataFrame(minmax_scaled_data, columns=df.columns)\n",
    "\n",
    "print('Scaled Data (Standard Scaler):')\n",
    "print(scaled_df, end='\\n\\n')\n",
    "\n",
    "print('Scaled Data (Min-Max Scaler):')\n",
    "print(minmax_scaled_df)\n",
    "\n",
    "# both should have type DataFrame\n",
    "X = df[['HoursStudied']] # Features\n",
    "y = df['MarksScored']   # Target variable\n",
    "\n",
    "X_train, X_test, y_train, y_test = train_test_split(X, y, test_size=0.2, random_state=42)\n",
    "print('Training Features:\\n', X_train, end='\\n\\n')\n",
    "print('Testing Features:\\n', X_test, end='\\n\\n')"
   ]
  }
 ],
 "metadata": {
  "kernelspec": {
   "display_name": "venv (3.13.5)",
   "language": "python",
   "name": "python3"
  },
  "language_info": {
   "codemirror_mode": {
    "name": "ipython",
    "version": 3
   },
   "file_extension": ".py",
   "mimetype": "text/x-python",
   "name": "python",
   "nbconvert_exporter": "python",
   "pygments_lexer": "ipython3",
   "version": "3.13.5"
  }
 },
 "nbformat": 4,
 "nbformat_minor": 5
}
