{
 "cells": [
  {
   "cell_type": "code",
   "execution_count": null,
   "id": "001d836f",
   "metadata": {},
   "outputs": [
    {
     "name": "stdout",
     "output_type": "stream",
     "text": [
      "Predicted marks for 6.9 hours studied: 82.64\n"
     ]
    }
   ],
   "source": [
    "# linear regression\n",
    "\n",
    "from sklearn.linear_model import LinearRegression\n",
    "\n",
    "# Creating a linear regression model\n",
    "model = LinearRegression()\n",
    "\n",
    "# creating a data frame for training - marks prediction from hours studied\n",
    "X = [[1], [2], [3], [4], [5], [6], [7], [8], [9], [10]]\n",
    "y = [35, 40, 40, 50, 75, 85, 90, 95, 98, 100]\n",
    "\n",
    "model.fit(X, y)\n",
    "\n",
    "# Making a prediction\n",
    "hours_studied = float(input(\"Enter hours studied: \"))\n",
    "predicted_marks = model.predict([[hours_studied]])[0]\n",
    "\n",
    "print(f\"Predicted marks for {hours_studied} hours studied: {predicted_marks:.2f}\")"
   ]
  },
  {
   "cell_type": "code",
   "execution_count": null,
   "id": "137e4ccc",
   "metadata": {},
   "outputs": [
    {
     "name": "stdout",
     "output_type": "stream",
     "text": [
      "Predicted result: Pass for 9.0 hours studied\n"
     ]
    }
   ],
   "source": [
    "# logistic regression\n",
    "\n",
    "from sklearn.linear_model import LogisticRegression\n",
    "\n",
    "# Creating a logistic regression model\n",
    "model = LogisticRegression()\n",
    "\n",
    "X = [[0], [1], [2], [3], [4]]\n",
    "y = [0, 0, 0, 1, 1]  # 0 - fail, 1 - pass\n",
    "\n",
    "model.fit(X, y)\n",
    "\n",
    "# Making a prediction\n",
    "hours_studied = float(input(\"Enter number of hours studied: \"))\n",
    "predicted_pass = model.predict([[hours_studied]])[0]\n",
    "\n",
    "if predicted_pass == 1:\n",
    "    print(f\"Predicted result: Pass for {hours_studied} hours studied\")\n",
    "else:\n",
    "    print(f\"Predicted result: Fail for {hours_studied} hours studied\")"
   ]
  },
  {
   "cell_type": "code",
   "execution_count": null,
   "id": "3b67d2da",
   "metadata": {},
   "outputs": [
    {
     "name": "stdout",
     "output_type": "stream",
     "text": [
      "The fruit is likely an apple.\n"
     ]
    }
   ],
   "source": [
    "# KNN Classification\n",
    "from sklearn.neighbors import KNeighborsClassifier\n",
    "\n",
    "# Creating a KNN classifier\n",
    "model = KNeighborsClassifier(n_neighbors=3)\n",
    "\n",
    "X = [\n",
    "    [150, 6.8],\n",
    "    [180, 7.2],\n",
    "    [200, 7.5],\n",
    "    [220, 7.8],\n",
    "    [250, 8.0],\n",
    "    [270, 8.5],\n",
    "    [300, 9.0]\n",
    "] # [weight (grams), size (cm)]\n",
    "\n",
    "y = [0, 0, 0, 0, 1, 1, 1] # 0 - apple, 1 - orange\n",
    "\n",
    "model.fit(X, y)\n",
    "\n",
    "# Making a prediction\n",
    "fruit = int(input(\"Enter fruit weight (in grams): \"))\n",
    "size = float(input(\"Enter fruit size (in cm): \"))\n",
    "\n",
    "prediction = model.predict([[fruit, size]])[0]\n",
    "if prediction == 1:\n",
    "    print(\"The fruit is likely an orange.\")\n",
    "else:\n",
    "    print(\"The fruit is likely an apple.\")\n"
   ]
  },
  {
   "cell_type": "code",
   "execution_count": 5,
   "id": "edb04192",
   "metadata": {},
   "outputs": [
    {
     "name": "stdout",
     "output_type": "stream",
     "text": [
      "The fruit is likely an apple.\n"
     ]
    }
   ],
   "source": [
    "# Decision Tree\n",
    "from sklearn.tree import DecisionTreeClassifier\n",
    "\n",
    "# Creating a Decision Tree classifier\n",
    "model = DecisionTreeClassifier()\n",
    "\n",
    "X = [\n",
    "    [6.5, 1],\n",
    "    [7.5, 2],\n",
    "    [8.0, 3],\n",
    "    [8.5, 4],\n",
    "    [9.0, 7],\n",
    "    [9.5, 9],\n",
    "    [10.0, 10]\n",
    "] # [size (cm), colour grade (1 -> red, 10 -> orange)]\n",
    "\n",
    "y = [0, 0, 0, 0, 1, 1, 1] # 0 - apple, 1 - orange\n",
    "\n",
    "model.fit(X, y)\n",
    "\n",
    "# Making a prediction\n",
    "size = float(input(\"Enter fruit size (in cm): \"))\n",
    "colour_grade = int(input(\"Enter fruit colour grade (1-10): \"))\n",
    "\n",
    "prediction = model.predict([[size, colour_grade]])[0]\n",
    "if prediction == 1:\n",
    "    print(\"The fruit is likely an orange.\")\n",
    "else:\n",
    "    print(\"The fruit is likely an apple.\")\n"
   ]
  }
 ],
 "metadata": {
  "kernelspec": {
   "display_name": "venv (3.13.5)",
   "language": "python",
   "name": "python3"
  },
  "language_info": {
   "codemirror_mode": {
    "name": "ipython",
    "version": 3
   },
   "file_extension": ".py",
   "mimetype": "text/x-python",
   "name": "python",
   "nbconvert_exporter": "python",
   "pygments_lexer": "ipython3",
   "version": "3.13.5"
  }
 },
 "nbformat": 4,
 "nbformat_minor": 5
}
