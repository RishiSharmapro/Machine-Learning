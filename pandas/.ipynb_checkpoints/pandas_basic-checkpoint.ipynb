{
 "cells": [
  {
   "cell_type": "code",
   "execution_count": 1,
   "id": "bbe24e20-a3d7-4c70-893f-24bf28c95923",
   "metadata": {},
   "outputs": [],
   "source": [
    "import numpy as np\n",
    "import pandas as pd"
   ]
  },
  {
   "cell_type": "code",
   "execution_count": 2,
   "id": "e9ae8667-d8c1-48af-a0f9-1bc310e83ec4",
   "metadata": {},
   "outputs": [],
   "source": [
    "dict1 = {\n",
    "    \"name\": [\"rishi\", \"siya\", \"kishan\", \"prince\", \"rajeev\", \"prem\"],\n",
    "    \"marks\": [100, 99, 90, 80, 70, 60],\n",
    "    \"city\": [\"delhi\", \"delhi\", \"pune\", \"kolkata\", \"agra\", \"lucknow\"] \n",
    "}"
   ]
  },
  {
   "cell_type": "code",
   "execution_count": 3,
   "id": "b24c665b-8ecf-4178-a2ee-94ffb5505ba1",
   "metadata": {},
   "outputs": [
    {
     "data": {
      "text/plain": [
       "{'name': ['rishi', 'siya', 'kishan', 'prince', 'rajeev', 'prem'],\n",
       " 'marks': [100, 99, 90, 80, 70, 60],\n",
       " 'city': ['delhi', 'delhi', 'pune', 'kolkata', 'agra', 'lucknow']}"
      ]
     },
     "execution_count": 3,
     "metadata": {},
     "output_type": "execute_result"
    }
   ],
   "source": [
    "dict1"
   ]
  },
  {
   "cell_type": "code",
   "execution_count": 4,
   "id": "05652bcf-7e3f-4f30-a0f4-b50e463bd317",
   "metadata": {},
   "outputs": [],
   "source": [
    "df = pd.DataFrame(dict1)"
   ]
  },
  {
   "cell_type": "code",
   "execution_count": 5,
   "id": "d1b932fd-77bd-4bd5-98b8-5fb32cc87b13",
   "metadata": {},
   "outputs": [
    {
     "data": {
      "text/html": [
       "<div>\n",
       "<style scoped>\n",
       "    .dataframe tbody tr th:only-of-type {\n",
       "        vertical-align: middle;\n",
       "    }\n",
       "\n",
       "    .dataframe tbody tr th {\n",
       "        vertical-align: top;\n",
       "    }\n",
       "\n",
       "    .dataframe thead th {\n",
       "        text-align: right;\n",
       "    }\n",
       "</style>\n",
       "<table border=\"1\" class=\"dataframe\">\n",
       "  <thead>\n",
       "    <tr style=\"text-align: right;\">\n",
       "      <th></th>\n",
       "      <th>name</th>\n",
       "      <th>marks</th>\n",
       "      <th>city</th>\n",
       "    </tr>\n",
       "  </thead>\n",
       "  <tbody>\n",
       "    <tr>\n",
       "      <th>0</th>\n",
       "      <td>rishi</td>\n",
       "      <td>100</td>\n",
       "      <td>delhi</td>\n",
       "    </tr>\n",
       "    <tr>\n",
       "      <th>1</th>\n",
       "      <td>siya</td>\n",
       "      <td>99</td>\n",
       "      <td>delhi</td>\n",
       "    </tr>\n",
       "    <tr>\n",
       "      <th>2</th>\n",
       "      <td>kishan</td>\n",
       "      <td>90</td>\n",
       "      <td>pune</td>\n",
       "    </tr>\n",
       "    <tr>\n",
       "      <th>3</th>\n",
       "      <td>prince</td>\n",
       "      <td>80</td>\n",
       "      <td>kolkata</td>\n",
       "    </tr>\n",
       "    <tr>\n",
       "      <th>4</th>\n",
       "      <td>rajeev</td>\n",
       "      <td>70</td>\n",
       "      <td>agra</td>\n",
       "    </tr>\n",
       "    <tr>\n",
       "      <th>5</th>\n",
       "      <td>prem</td>\n",
       "      <td>60</td>\n",
       "      <td>lucknow</td>\n",
       "    </tr>\n",
       "  </tbody>\n",
       "</table>\n",
       "</div>"
      ],
      "text/plain": [
       "     name  marks     city\n",
       "0   rishi    100    delhi\n",
       "1    siya     99    delhi\n",
       "2  kishan     90     pune\n",
       "3  prince     80  kolkata\n",
       "4  rajeev     70     agra\n",
       "5    prem     60  lucknow"
      ]
     },
     "execution_count": 5,
     "metadata": {},
     "output_type": "execute_result"
    }
   ],
   "source": [
    "df"
   ]
  },
  {
   "cell_type": "markdown",
   "id": "d785646f-0d83-49fd-882c-7780bf66a494",
   "metadata": {},
   "source": [
    "### To convert a dataframe into csv"
   ]
  },
  {
   "cell_type": "code",
   "execution_count": 6,
   "id": "4b46b84c-ce11-48e5-be08-0fb01f4c3818",
   "metadata": {},
   "outputs": [],
   "source": [
    "df.to_csv(\"friends.csv\")"
   ]
  },
  {
   "cell_type": "code",
   "execution_count": 7,
   "id": "db92f945-e42d-4d39-a41a-491902576c41",
   "metadata": {},
   "outputs": [],
   "source": [
    "df.to_csv(\"friends_without_index.csv\", index = False)"
   ]
  },
  {
   "cell_type": "markdown",
   "id": "3b2d42d7-8b48-416f-9f76-d7ac567b12f0",
   "metadata": {},
   "source": [
    "### To see x rows from the start/end"
   ]
  },
  {
   "cell_type": "code",
   "execution_count": 8,
   "id": "a14f78be-7021-4b6e-874f-c23899afe92f",
   "metadata": {},
   "outputs": [
    {
     "data": {
      "text/html": [
       "<div>\n",
       "<style scoped>\n",
       "    .dataframe tbody tr th:only-of-type {\n",
       "        vertical-align: middle;\n",
       "    }\n",
       "\n",
       "    .dataframe tbody tr th {\n",
       "        vertical-align: top;\n",
       "    }\n",
       "\n",
       "    .dataframe thead th {\n",
       "        text-align: right;\n",
       "    }\n",
       "</style>\n",
       "<table border=\"1\" class=\"dataframe\">\n",
       "  <thead>\n",
       "    <tr style=\"text-align: right;\">\n",
       "      <th></th>\n",
       "      <th>name</th>\n",
       "      <th>marks</th>\n",
       "      <th>city</th>\n",
       "    </tr>\n",
       "  </thead>\n",
       "  <tbody>\n",
       "    <tr>\n",
       "      <th>4</th>\n",
       "      <td>rajeev</td>\n",
       "      <td>70</td>\n",
       "      <td>agra</td>\n",
       "    </tr>\n",
       "    <tr>\n",
       "      <th>5</th>\n",
       "      <td>prem</td>\n",
       "      <td>60</td>\n",
       "      <td>lucknow</td>\n",
       "    </tr>\n",
       "  </tbody>\n",
       "</table>\n",
       "</div>"
      ],
      "text/plain": [
       "     name  marks     city\n",
       "4  rajeev     70     agra\n",
       "5    prem     60  lucknow"
      ]
     },
     "execution_count": 8,
     "metadata": {},
     "output_type": "execute_result"
    }
   ],
   "source": [
    "df.tail(2)"
   ]
  },
  {
   "cell_type": "code",
   "execution_count": 9,
   "id": "0d1e955b-be2d-4eaa-8dd1-f7b5f8c30901",
   "metadata": {},
   "outputs": [
    {
     "data": {
      "text/html": [
       "<div>\n",
       "<style scoped>\n",
       "    .dataframe tbody tr th:only-of-type {\n",
       "        vertical-align: middle;\n",
       "    }\n",
       "\n",
       "    .dataframe tbody tr th {\n",
       "        vertical-align: top;\n",
       "    }\n",
       "\n",
       "    .dataframe thead th {\n",
       "        text-align: right;\n",
       "    }\n",
       "</style>\n",
       "<table border=\"1\" class=\"dataframe\">\n",
       "  <thead>\n",
       "    <tr style=\"text-align: right;\">\n",
       "      <th></th>\n",
       "      <th>name</th>\n",
       "      <th>marks</th>\n",
       "      <th>city</th>\n",
       "    </tr>\n",
       "  </thead>\n",
       "  <tbody>\n",
       "    <tr>\n",
       "      <th>0</th>\n",
       "      <td>rishi</td>\n",
       "      <td>100</td>\n",
       "      <td>delhi</td>\n",
       "    </tr>\n",
       "    <tr>\n",
       "      <th>1</th>\n",
       "      <td>siya</td>\n",
       "      <td>99</td>\n",
       "      <td>delhi</td>\n",
       "    </tr>\n",
       "  </tbody>\n",
       "</table>\n",
       "</div>"
      ],
      "text/plain": [
       "    name  marks   city\n",
       "0  rishi    100  delhi\n",
       "1   siya     99  delhi"
      ]
     },
     "execution_count": 9,
     "metadata": {},
     "output_type": "execute_result"
    }
   ],
   "source": [
    "df.head(2)"
   ]
  },
  {
   "cell_type": "markdown",
   "id": "0ae4391b-69eb-4d2f-a615-7b48bd10040b",
   "metadata": {},
   "source": [
    "### For a basic statistical analysis of the numeric columns in our data frame"
   ]
  },
  {
   "cell_type": "code",
   "execution_count": 10,
   "id": "6063bf43-a90c-4d27-842d-953aa23de7d1",
   "metadata": {},
   "outputs": [
    {
     "data": {
      "text/html": [
       "<div>\n",
       "<style scoped>\n",
       "    .dataframe tbody tr th:only-of-type {\n",
       "        vertical-align: middle;\n",
       "    }\n",
       "\n",
       "    .dataframe tbody tr th {\n",
       "        vertical-align: top;\n",
       "    }\n",
       "\n",
       "    .dataframe thead th {\n",
       "        text-align: right;\n",
       "    }\n",
       "</style>\n",
       "<table border=\"1\" class=\"dataframe\">\n",
       "  <thead>\n",
       "    <tr style=\"text-align: right;\">\n",
       "      <th></th>\n",
       "      <th>marks</th>\n",
       "    </tr>\n",
       "  </thead>\n",
       "  <tbody>\n",
       "    <tr>\n",
       "      <th>count</th>\n",
       "      <td>6.000000</td>\n",
       "    </tr>\n",
       "    <tr>\n",
       "      <th>mean</th>\n",
       "      <td>83.166667</td>\n",
       "    </tr>\n",
       "    <tr>\n",
       "      <th>std</th>\n",
       "      <td>16.129683</td>\n",
       "    </tr>\n",
       "    <tr>\n",
       "      <th>min</th>\n",
       "      <td>60.000000</td>\n",
       "    </tr>\n",
       "    <tr>\n",
       "      <th>25%</th>\n",
       "      <td>72.500000</td>\n",
       "    </tr>\n",
       "    <tr>\n",
       "      <th>50%</th>\n",
       "      <td>85.000000</td>\n",
       "    </tr>\n",
       "    <tr>\n",
       "      <th>75%</th>\n",
       "      <td>96.750000</td>\n",
       "    </tr>\n",
       "    <tr>\n",
       "      <th>max</th>\n",
       "      <td>100.000000</td>\n",
       "    </tr>\n",
       "  </tbody>\n",
       "</table>\n",
       "</div>"
      ],
      "text/plain": [
       "            marks\n",
       "count    6.000000\n",
       "mean    83.166667\n",
       "std     16.129683\n",
       "min     60.000000\n",
       "25%     72.500000\n",
       "50%     85.000000\n",
       "75%     96.750000\n",
       "max    100.000000"
      ]
     },
     "execution_count": 10,
     "metadata": {},
     "output_type": "execute_result"
    }
   ],
   "source": [
    "df.describe()"
   ]
  },
  {
   "cell_type": "code",
   "execution_count": 11,
   "id": "014823a0-c2da-49ab-b7d6-e43501a7a4ee",
   "metadata": {},
   "outputs": [
    {
     "ename": "NameError",
     "evalue": "name 'newdf2' is not defined",
     "output_type": "error",
     "traceback": [
      "\u001b[31m---------------------------------------------------------------------------\u001b[39m",
      "\u001b[31mNameError\u001b[39m                                 Traceback (most recent call last)",
      "\u001b[36mCell\u001b[39m\u001b[36m \u001b[39m\u001b[32mIn[11]\u001b[39m\u001b[32m, line 2\u001b[39m\n\u001b[32m      1\u001b[39m \u001b[38;5;66;03m# tells info about the dataframe\u001b[39;00m\n\u001b[32m----> \u001b[39m\u001b[32m2\u001b[39m \u001b[43mnewdf2\u001b[49m.info()\n",
      "\u001b[31mNameError\u001b[39m: name 'newdf2' is not defined"
     ]
    }
   ],
   "source": [
    "# tells info about the dataframe\n",
    "newdf2.info()"
   ]
  },
  {
   "cell_type": "markdown",
   "id": "b7195370-6184-4053-8044-e05624591e78",
   "metadata": {},
   "source": [
    "### Importing a CSV into pandas "
   ]
  },
  {
   "cell_type": "code",
   "execution_count": null,
   "id": "f2a74a8e-5972-4876-bc56-78b8f39d5656",
   "metadata": {},
   "outputs": [],
   "source": [
    "trains = pd.read_csv(\"demo_trains.csv\")"
   ]
  },
  {
   "cell_type": "code",
   "execution_count": null,
   "id": "1ea5492f-ae4d-4824-b38b-b7bc1520cf1f",
   "metadata": {},
   "outputs": [],
   "source": [
    "trains"
   ]
  },
  {
   "cell_type": "markdown",
   "id": "60e74497-9941-45f3-a500-0e0376b2e6d4",
   "metadata": {},
   "source": [
    "### Note: We can change the values thorught direct assignment but it fails in some cases therefore don't use this "
   ]
  },
  {
   "cell_type": "code",
   "execution_count": null,
   "id": "1e665289-345a-4f16-8ea6-5730e728126c",
   "metadata": {},
   "outputs": [],
   "source": [
    "trains['Speed'][0] = 92"
   ]
  },
  {
   "cell_type": "code",
   "execution_count": null,
   "id": "b60578b0-4604-466a-8799-d3a0cf28dceb",
   "metadata": {},
   "outputs": [],
   "source": [
    "trains"
   ]
  },
  {
   "cell_type": "markdown",
   "id": "f74694a5-e287-4ed9-a3b7-2b5445636d96",
   "metadata": {},
   "source": [
    "### Change the indexes but remember you have to wither change all or none"
   ]
  },
  {
   "cell_type": "code",
   "execution_count": null,
   "id": "c3f88d90-841f-48a2-846a-9e737098449a",
   "metadata": {},
   "outputs": [],
   "source": [
    "df.index = ['first', 'second','third', 'four', 'firth', 'sixth']"
   ]
  },
  {
   "cell_type": "code",
   "execution_count": null,
   "id": "e6ae444b-1384-46c5-9565-c490b7a6293f",
   "metadata": {},
   "outputs": [],
   "source": [
    "df"
   ]
  },
  {
   "cell_type": "markdown",
   "id": "95df0a08-5e93-45a7-a9a6-2683dc897fe5",
   "metadata": {},
   "source": [
    "# Basic data structures in pandas\n",
    "### Pandas provides two types of classes for handling data:\n",
    "\n",
    "1. **Series**: a one-dimensional labeled array holding data of any type such as integers, strings, Python objects etc.\n",
    "\n",
    "2. **DataFrame**: a two-dimensional data structure that holds data like a two-dimension array or a table with rows and columns."
   ]
  },
  {
   "cell_type": "markdown",
   "id": "02d51516-ab1f-477b-bfd9-437b989bc636",
   "metadata": {},
   "source": [
    "### Creating a Series"
   ]
  },
  {
   "cell_type": "code",
   "execution_count": null,
   "id": "beba1f3c-3886-4554-b6c6-dd0461f442e9",
   "metadata": {},
   "outputs": [],
   "source": [
    "ser = pd.Series(np.random.rand(7))"
   ]
  },
  {
   "cell_type": "code",
   "execution_count": null,
   "id": "46508889-3309-4d6d-a431-01d71c1455e2",
   "metadata": {},
   "outputs": [],
   "source": [
    "ser, type(ser)"
   ]
  },
  {
   "cell_type": "markdown",
   "id": "cc6d3179-9808-4dc2-9866-316b4b2176b0",
   "metadata": {},
   "source": [
    "### Creating a DataFrame"
   ]
  },
  {
   "cell_type": "code",
   "execution_count": null,
   "id": "bf17076c-b542-48f1-b5e0-961b51bc69ca",
   "metadata": {},
   "outputs": [],
   "source": [
    "newdf = pd.DataFrame(np.random.rand(200, 5), index=np.arange(200))"
   ]
  },
  {
   "cell_type": "code",
   "execution_count": null,
   "id": "54fef75e-17c0-4324-bf7c-cab9b69241f1",
   "metadata": {},
   "outputs": [],
   "source": [
    "newdf"
   ]
  },
  {
   "cell_type": "code",
   "execution_count": null,
   "id": "62dcc166-cea2-4d30-b324-fb029453f283",
   "metadata": {},
   "outputs": [],
   "source": [
    "type(newdf)"
   ]
  },
  {
   "cell_type": "markdown",
   "id": "65310e31-0e71-4ab4-85b5-7ade83d7950a",
   "metadata": {},
   "source": [
    "### To convert a dataframe into numpy arrays"
   ]
  },
  {
   "cell_type": "code",
   "execution_count": null,
   "id": "504c66f6-d86e-4bf9-88e7-258c6048a637",
   "metadata": {},
   "outputs": [],
   "source": [
    "df.to_numpy()"
   ]
  },
  {
   "cell_type": "markdown",
   "id": "1d6268dc-dc72-42b9-b184-5c234fb4b0b3",
   "metadata": {},
   "source": [
    "## Attributes of DataFrame"
   ]
  },
  {
   "cell_type": "code",
   "execution_count": null,
   "id": "3a9e526a-d9f1-42ca-9801-d4342cd51145",
   "metadata": {},
   "outputs": [],
   "source": [
    "# for transpose\n",
    "newdf.T"
   ]
  },
  {
   "cell_type": "code",
   "execution_count": null,
   "id": "d9362bc3-c3a0-45b6-8fa9-f4a471e657fb",
   "metadata": {},
   "outputs": [],
   "source": [
    "# sort based on index in 2D array axis 0 -> x, axis 1 -> y \n",
    "newdf.sort_index(axis=1, ascending=False)"
   ]
  },
  {
   "cell_type": "code",
   "execution_count": null,
   "id": "d306dd27-89b2-4840-9592-b81871e4ed76",
   "metadata": {},
   "outputs": [],
   "source": [
    "newdf[0]"
   ]
  },
  {
   "cell_type": "code",
   "execution_count": null,
   "id": "803b2e96-6dd1-453f-b0ef-e57477380746",
   "metadata": {},
   "outputs": [],
   "source": [
    "# If we change something in view then its also changes in the main dataframe to avoid this use .copy() or newdf[:] \n",
    "# and it this chaned access has other issues thats why we use .loc[row, col] = value to update\n",
    "newdf2 = newdf"
   ]
  },
  {
   "cell_type": "code",
   "execution_count": null,
   "id": "7d6a57ec-72c0-46a0-9a52-12c716b2f66c",
   "metadata": {},
   "outputs": [],
   "source": [
    "newdf2[0][0] = 10"
   ]
  },
  {
   "cell_type": "code",
   "execution_count": null,
   "id": "a152ae3e-6420-4ea3-81ff-d274c93ea2ff",
   "metadata": {},
   "outputs": [],
   "source": [
    "newdf2.columns = list(\"ABCDE\")"
   ]
  },
  {
   "cell_type": "code",
   "execution_count": null,
   "id": "8071b178-f7ad-4a92-b121-ca4ea95d913d",
   "metadata": {},
   "outputs": [],
   "source": [
    "newdf2"
   ]
  },
  {
   "cell_type": "code",
   "execution_count": null,
   "id": "4d68f7af-2e90-4426-9b50-794c70d2610e",
   "metadata": {},
   "outputs": [],
   "source": [
    "newdf2.loc[0, 'A'] = 1224"
   ]
  },
  {
   "cell_type": "code",
   "execution_count": null,
   "id": "378ac815-5d30-4617-bc36-f631e6ddf3f3",
   "metadata": {},
   "outputs": [],
   "source": [
    "newdf2"
   ]
  },
  {
   "cell_type": "code",
   "execution_count": null,
   "id": "4dc36204-61ee-4810-8022-0f030e1e7327",
   "metadata": {},
   "outputs": [],
   "source": [
    "# to get specific columns\n",
    "newdf2.loc[:, ['A', 'C']]"
   ]
  },
  {
   "cell_type": "code",
   "execution_count": null,
   "id": "acb2ff4f-bd17-4b95-87fc-37dfa21a8e4f",
   "metadata": {},
   "outputs": [],
   "source": [
    "# we can also run db like complex queries using .loc\n",
    "# newdf2.loc[(newdf2['A'] > 0.9)]\n",
    "newdf2.loc[(newdf2['A'] > 0.9) & (newdf2['C'] < 0.1)]"
   ]
  },
  {
   "cell_type": "code",
   "execution_count": null,
   "id": "1219fc60-1366-4689-92d7-86b2caad2f89",
   "metadata": {},
   "outputs": [],
   "source": [
    "# if we just have to use indexing irrespective of the row and colums name use iloc\n",
    "newdf.iloc[0,0]"
   ]
  },
  {
   "cell_type": "markdown",
   "id": "590ada14-b330-4241-a7aa-5a66498697c0",
   "metadata": {},
   "source": [
    "| Feature         | `.loc[]`         | `.iloc[]`          | `.at[]`           | `.iat[]`          |\n",
    "| --------------- | ---------------- | ------------------ | ----------------- | ----------------- |\n",
    "| Access by       | Label            | Integer Position   | Label             | Integer Position  |\n",
    "| Returns         | Series/DataFrame | Series/DataFrame   | Scalar            | Scalar            |\n",
    "| Slice inclusive | Yes              | No                 | No                | No                |\n",
    "| Best for        | General access   | Index-based access | Fast single value | Fast single value |\n"
   ]
  },
  {
   "cell_type": "code",
   "execution_count": null,
   "id": "13c6100f-94a1-443b-9f07-04da095f8a10",
   "metadata": {},
   "outputs": [],
   "source": [
    "# if we have to drop a row/column - be default axis is row\n",
    "# Note: these thing doesn't change the original dataframe in this case newdf2 \n",
    "newdf2.drop(1) # for row\n",
    "newdf2.drop(['A', 'B'], axis=1) # for col"
   ]
  },
  {
   "cell_type": "code",
   "execution_count": null,
   "id": "5d3b099a-b314-445d-a9f1-03f8c4e0b1c2",
   "metadata": {},
   "outputs": [],
   "source": [
    "# Some functions have an inplace attribute that manipulates the original dataframe insted of returing a copy \n",
    "newdf2.drop(['C', 'D'], axis=1, inplace=True)"
   ]
  },
  {
   "cell_type": "code",
   "execution_count": null,
   "id": "77fc943f-5a65-44f0-9444-0c50ae2059c5",
   "metadata": {},
   "outputs": [],
   "source": [
    "newdf2.head()"
   ]
  },
  {
   "cell_type": "code",
   "execution_count": null,
   "id": "606ca7ee-d538-4764-a3d4-fff3576f040a",
   "metadata": {},
   "outputs": [],
   "source": [
    "newdf2.drop([1, 3, 4, 5], inplace=True)"
   ]
  },
  {
   "cell_type": "code",
   "execution_count": null,
   "id": "809ae575-547d-4eb5-90ea-aa9fe396e6fc",
   "metadata": {},
   "outputs": [],
   "source": [
    "newdf2.head()"
   ]
  },
  {
   "cell_type": "code",
   "execution_count": null,
   "id": "37b1102a-6694-4cbc-b054-7906a184f5af",
   "metadata": {},
   "outputs": [],
   "source": [
    "# now the row indexing is not ordered to sovle this we can again reset the index but .reset_index will add a extra column\n",
    "# at the start called index to remove this we set drop=True to drop the indexes column but retain the index\n",
    "newdf2.reset_index()"
   ]
  },
  {
   "cell_type": "code",
   "execution_count": null,
   "id": "6a744ebc-d261-4545-b200-1a8c521304ee",
   "metadata": {},
   "outputs": [],
   "source": [
    "newdf2.reset_index(drop=True, inplace=True)"
   ]
  },
  {
   "cell_type": "code",
   "execution_count": null,
   "id": "d6fd0ab4-8734-492e-aad9-76edc9f1f821",
   "metadata": {},
   "outputs": [],
   "source": [
    "# isnull telles whether something is null or not \n",
    "newdf2.loc[1:5, ['B']] = None\n",
    "newdf2.isnull()"
   ]
  },
  {
   "cell_type": "code",
   "execution_count": null,
   "id": "2fcecbb8-c190-469e-9bd4-e2c408472cc7",
   "metadata": {},
   "outputs": [],
   "source": [
    "# notnull telles whether something is !null or not \n",
    "newdf2.loc[1:5, ['B']] = None\n",
    "newdf2.head().notnull()"
   ]
  },
  {
   "cell_type": "code",
   "execution_count": null,
   "id": "6b882f3f-d13d-4e10-9a32-04a5b4b951f7",
   "metadata": {},
   "outputs": [],
   "source": []
  }
 ],
 "metadata": {
  "kernelspec": {
   "display_name": "Python 3 (ipykernel)",
   "language": "python",
   "name": "python3"
  },
  "language_info": {
   "codemirror_mode": {
    "name": "ipython",
    "version": 3
   },
   "file_extension": ".py",
   "mimetype": "text/x-python",
   "name": "python",
   "nbconvert_exporter": "python",
   "pygments_lexer": "ipython3",
   "version": "3.13.5"
  },
  "widgets": {
   "application/vnd.jupyter.widget-state+json": {
    "state": {},
    "version_major": 2,
    "version_minor": 0
   }
  }
 },
 "nbformat": 4,
 "nbformat_minor": 5
}
