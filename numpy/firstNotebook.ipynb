{
 "cells": [
  {
   "cell_type": "code",
   "execution_count": 1,
   "id": "334a0567-48b7-4133-aee0-92a2c7554a31",
   "metadata": {},
   "outputs": [],
   "source": [
    "import numpy as np"
   ]
  },
  {
   "cell_type": "markdown",
   "id": "7d925aa7-b382-433f-bda3-b0aa7ca55bfe",
   "metadata": {},
   "source": [
    "## Method 1: Array creation from python list and tuples"
   ]
  },
  {
   "cell_type": "code",
   "execution_count": 2,
   "id": "469c3437-e801-4669-9b5f-8daa7d410fde",
   "metadata": {},
   "outputs": [],
   "source": [
    "arr = np.array([1, 127, 3], np.int8)"
   ]
  },
  {
   "cell_type": "code",
   "execution_count": 3,
   "id": "81e8762b-368e-41b2-a496-a98cec8042c7",
   "metadata": {},
   "outputs": [
    {
     "data": {
      "text/plain": [
       "array([  1, 127,   3], dtype=int8)"
      ]
     },
     "execution_count": 3,
     "metadata": {},
     "output_type": "execute_result"
    }
   ],
   "source": [
    "arr"
   ]
  },
  {
   "cell_type": "code",
   "execution_count": 4,
   "id": "6605ba4f-9caf-4926-be1b-3455b273b422",
   "metadata": {},
   "outputs": [
    {
     "data": {
      "text/plain": [
       "(3,)"
      ]
     },
     "execution_count": 4,
     "metadata": {},
     "output_type": "execute_result"
    }
   ],
   "source": [
    "arr.shape"
   ]
  },
  {
   "cell_type": "code",
   "execution_count": 5,
   "id": "b7b9d872-7727-4674-b7f1-17ba6f9a62de",
   "metadata": {},
   "outputs": [
    {
     "data": {
      "text/plain": [
       "dtype('int8')"
      ]
     },
     "execution_count": 5,
     "metadata": {},
     "output_type": "execute_result"
    }
   ],
   "source": [
    "arr.dtype"
   ]
  },
  {
   "cell_type": "markdown",
   "id": "3a05daba-b87a-458e-8c0f-1c7b967bef74",
   "metadata": {},
   "source": [
    "## Method 2: Array creation from intrinsic numpy objects"
   ]
  },
  {
   "cell_type": "markdown",
   "id": "0b35079e-0b9f-4701-bedc-2abb4c28fc48",
   "metadata": {},
   "source": [
    "### This creates an array of zeros"
   ]
  },
  {
   "cell_type": "code",
   "execution_count": 6,
   "id": "9b528428-3656-4063-9dd8-53f5d6177d40",
   "metadata": {},
   "outputs": [],
   "source": [
    "zeros = np.zeros((3, 4))"
   ]
  },
  {
   "cell_type": "code",
   "execution_count": 7,
   "id": "c047b38b-0236-4cc8-b3f2-f23efc2a66f3",
   "metadata": {},
   "outputs": [
    {
     "data": {
      "text/plain": [
       "(3, 4)"
      ]
     },
     "execution_count": 7,
     "metadata": {},
     "output_type": "execute_result"
    }
   ],
   "source": [
    "zeros.shape"
   ]
  },
  {
   "cell_type": "code",
   "execution_count": 8,
   "id": "7a3128f4-09ae-4ae2-b48d-8acc7360294e",
   "metadata": {},
   "outputs": [
    {
     "data": {
      "text/plain": [
       "array([[0., 0., 0., 0.],\n",
       "       [0., 0., 0., 0.],\n",
       "       [0., 0., 0., 0.]])"
      ]
     },
     "execution_count": 8,
     "metadata": {},
     "output_type": "execute_result"
    }
   ],
   "source": [
    "zeros"
   ]
  },
  {
   "cell_type": "markdown",
   "id": "832b5061-3d25-4531-8a92-ac8c44fd7b7c",
   "metadata": {},
   "source": [
    "### This creates an array starting from 0 till num - 1, works same as python range function"
   ]
  },
  {
   "cell_type": "code",
   "execution_count": 9,
   "id": "3f9e1605-5fe4-41f9-b274-59d84f1067bc",
   "metadata": {},
   "outputs": [],
   "source": [
    "rng = np.arange(20)"
   ]
  },
  {
   "cell_type": "code",
   "execution_count": 10,
   "id": "355edb4b-98b2-4cd1-85a9-46ee01d0cc21",
   "metadata": {},
   "outputs": [
    {
     "data": {
      "text/plain": [
       "array([ 0,  1,  2,  3,  4,  5,  6,  7,  8,  9, 10, 11, 12, 13, 14, 15, 16,\n",
       "       17, 18, 19])"
      ]
     },
     "execution_count": 10,
     "metadata": {},
     "output_type": "execute_result"
    }
   ],
   "source": [
    "rng"
   ]
  },
  {
   "cell_type": "markdown",
   "id": "e73c0429-adde-4697-b072-d1bdbf454c5f",
   "metadata": {},
   "source": [
    "### This creates an array from start till end and contains x elements and all elements are equally spaced"
   ]
  },
  {
   "cell_type": "code",
   "execution_count": 11,
   "id": "4a3819cf-ff85-477a-af97-86b85d0e093f",
   "metadata": {},
   "outputs": [],
   "source": [
    "lspace = np.linspace(0, 50, 8)"
   ]
  },
  {
   "cell_type": "code",
   "execution_count": 12,
   "id": "66eef631-77ec-4bf0-862f-82a9686a1213",
   "metadata": {},
   "outputs": [
    {
     "data": {
      "text/plain": [
       "array([ 0.        ,  7.14285714, 14.28571429, 21.42857143, 28.57142857,\n",
       "       35.71428571, 42.85714286, 50.        ])"
      ]
     },
     "execution_count": 12,
     "metadata": {},
     "output_type": "execute_result"
    }
   ],
   "source": [
    "lspace"
   ]
  },
  {
   "cell_type": "markdown",
   "id": "6e77f4d8-2055-4017-9973-fd1f01efee57",
   "metadata": {},
   "source": [
    "### This creates an array of give size populated with random elements"
   ]
  },
  {
   "cell_type": "code",
   "execution_count": 13,
   "id": "15f8e48c-6109-4e61-bb2c-b803c1346192",
   "metadata": {},
   "outputs": [],
   "source": [
    "emp = np.empty((4, 5))"
   ]
  },
  {
   "cell_type": "code",
   "execution_count": 14,
   "id": "6cd0c7f6-c932-48d3-a48e-8662a402f808",
   "metadata": {},
   "outputs": [
    {
     "data": {
      "text/plain": [
       "array([[0., 0., 0., 0., 0.],\n",
       "       [0., 0., 0., 0., 0.],\n",
       "       [0., 0., 0., 0., 0.],\n",
       "       [0., 0., 0., 0., 0.]])"
      ]
     },
     "execution_count": 14,
     "metadata": {},
     "output_type": "execute_result"
    }
   ],
   "source": [
    "emp"
   ]
  },
  {
   "cell_type": "markdown",
   "id": "ff36f8d7-be77-426b-ac14-863e6c88c24b",
   "metadata": {},
   "source": [
    "### This creates an array having the same structure(size and dimension) populated with random elements"
   ]
  },
  {
   "cell_type": "code",
   "execution_count": 15,
   "id": "ed612b44-f414-4a3c-992a-407b71120a5a",
   "metadata": {},
   "outputs": [],
   "source": [
    "emp_like = np.empty_like(rng)"
   ]
  },
  {
   "cell_type": "code",
   "execution_count": 16,
   "id": "7b7bb5dd-ed6f-4008-9f85-a5ff3fa85744",
   "metadata": {},
   "outputs": [
    {
     "data": {
      "text/plain": [
       "array([0, 0, 0, 0, 0, 0, 0, 0, 0, 0, 0, 0, 0, 0, 0, 0, 0, 0, 0, 0])"
      ]
     },
     "execution_count": 16,
     "metadata": {},
     "output_type": "execute_result"
    }
   ],
   "source": [
    "emp_like"
   ]
  },
  {
   "cell_type": "markdown",
   "id": "b68b26ad-9e6f-4ca9-a622-57d43914b820",
   "metadata": {},
   "source": [
    "### This creates an identity array"
   ]
  },
  {
   "cell_type": "code",
   "execution_count": 17,
   "id": "8833fbb3-cc98-469e-89e7-313be820b120",
   "metadata": {},
   "outputs": [],
   "source": [
    "ide = np.identity(5)"
   ]
  },
  {
   "cell_type": "code",
   "execution_count": 18,
   "id": "a512a467-edbc-4f61-9a52-baaa1dd03be0",
   "metadata": {},
   "outputs": [
    {
     "data": {
      "text/plain": [
       "array([[1., 0., 0., 0., 0.],\n",
       "       [0., 1., 0., 0., 0.],\n",
       "       [0., 0., 1., 0., 0.],\n",
       "       [0., 0., 0., 1., 0.],\n",
       "       [0., 0., 0., 0., 1.]])"
      ]
     },
     "execution_count": 18,
     "metadata": {},
     "output_type": "execute_result"
    }
   ],
   "source": [
    "ide"
   ]
  },
  {
   "cell_type": "markdown",
   "id": "32e435eb-cda3-4f8b-b2a8-894c03b3d0a5",
   "metadata": {},
   "source": [
    "### Axis in numpy array"
   ]
  },
  {
   "cell_type": "code",
   "execution_count": 19,
   "id": "ffe3ac82-20a5-4ae0-ac79-12318c17222d",
   "metadata": {},
   "outputs": [],
   "source": [
    "x = np.array([[1, 2, 3], [4, 5, 6], [7, 0, 1]])"
   ]
  },
  {
   "cell_type": "code",
   "execution_count": 20,
   "id": "a286cbe0-77e1-4655-aa4b-c6153a037ae9",
   "metadata": {},
   "outputs": [
    {
     "data": {
      "text/plain": [
       "array([[1, 2, 3],\n",
       "       [4, 5, 6],\n",
       "       [7, 0, 1]])"
      ]
     },
     "execution_count": 20,
     "metadata": {},
     "output_type": "execute_result"
    }
   ],
   "source": [
    "x"
   ]
  },
  {
   "cell_type": "markdown",
   "id": "df795603-a721-4e45-8051-7554b73a7296",
   "metadata": {},
   "source": [
    "*Note: In 2-D array row is along the axis 0 while columns are along the axis 1*"
   ]
  },
  {
   "cell_type": "code",
   "execution_count": 21,
   "id": "754a032d-5d04-4aa1-b111-30ffbc341a37",
   "metadata": {},
   "outputs": [
    {
     "data": {
      "text/plain": [
       "array([12,  7, 10])"
      ]
     },
     "execution_count": 21,
     "metadata": {},
     "output_type": "execute_result"
    }
   ],
   "source": [
    "x.sum(axis = 0)"
   ]
  },
  {
   "cell_type": "code",
   "execution_count": 22,
   "id": "b1459cdd-b2f6-455c-9b91-2a49b230c1a5",
   "metadata": {},
   "outputs": [
    {
     "data": {
      "text/plain": [
       "array([ 6, 15,  8])"
      ]
     },
     "execution_count": 22,
     "metadata": {},
     "output_type": "execute_result"
    }
   ],
   "source": [
    "x.sum(axis = 1)"
   ]
  },
  {
   "cell_type": "markdown",
   "id": "6c300e5a-9766-435d-adfd-4f05e5598e5f",
   "metadata": {},
   "source": [
    "### Array Attributes"
   ]
  },
  {
   "cell_type": "code",
   "execution_count": 23,
   "id": "53b6f970-2069-499f-ba92-e8e008d4d87d",
   "metadata": {},
   "outputs": [
    {
     "data": {
      "text/plain": [
       "array([[1, 4, 7],\n",
       "       [2, 5, 0],\n",
       "       [3, 6, 1]])"
      ]
     },
     "execution_count": 23,
     "metadata": {},
     "output_type": "execute_result"
    }
   ],
   "source": [
    "# For transpose\n",
    "x.T"
   ]
  },
  {
   "cell_type": "code",
   "execution_count": 24,
   "id": "b00b86c8-4627-475d-b433-53db1f290585",
   "metadata": {},
   "outputs": [
    {
     "name": "stdout",
     "output_type": "stream",
     "text": [
      "1\n",
      "2\n",
      "3\n",
      "4\n",
      "5\n",
      "6\n",
      "7\n",
      "0\n",
      "1\n"
     ]
    }
   ],
   "source": [
    "# For traversing an array: flat gives an iterator\n",
    "for item in x.flat:\n",
    "    print(item)"
   ]
  },
  {
   "cell_type": "code",
   "execution_count": 25,
   "id": "eec0f057-7c0d-4555-9cd8-860cb567ab53",
   "metadata": {},
   "outputs": [
    {
     "data": {
      "text/plain": [
       "2"
      ]
     },
     "execution_count": 25,
     "metadata": {},
     "output_type": "execute_result"
    }
   ],
   "source": [
    "# For getting the dimension\n",
    "x.ndim"
   ]
  },
  {
   "cell_type": "code",
   "execution_count": 26,
   "id": "2172d342-2aa7-444c-a544-addfa7f5f5c1",
   "metadata": {},
   "outputs": [
    {
     "data": {
      "text/plain": [
       "9"
      ]
     },
     "execution_count": 26,
     "metadata": {},
     "output_type": "execute_result"
    }
   ],
   "source": [
    "# For size\n",
    "x.size"
   ]
  },
  {
   "cell_type": "code",
   "execution_count": 27,
   "id": "fb84f48e-e1db-4074-9fac-71d84c3552b5",
   "metadata": {},
   "outputs": [
    {
     "data": {
      "text/plain": [
       "72"
      ]
     },
     "execution_count": 27,
     "metadata": {},
     "output_type": "execute_result"
    }
   ],
   "source": [
    "# For getting the space occupied in bytes\n",
    "x.nbytes"
   ]
  },
  {
   "cell_type": "markdown",
   "id": "d131a4b8-a680-45fa-84c3-77ed06715401",
   "metadata": {},
   "source": [
    "### Array Fucntions"
   ]
  },
  {
   "cell_type": "code",
   "execution_count": 28,
   "id": "fe4f0c0b-a585-4937-b00b-67ca952df9b4",
   "metadata": {},
   "outputs": [],
   "source": [
    "reshaped = np.arange(10).reshape(5, 2)"
   ]
  },
  {
   "cell_type": "code",
   "execution_count": 29,
   "id": "9292f240-f297-4bcc-a7ad-352e07bb6783",
   "metadata": {},
   "outputs": [
    {
     "data": {
      "text/plain": [
       "array([[0, 1],\n",
       "       [2, 3],\n",
       "       [4, 5],\n",
       "       [6, 7],\n",
       "       [8, 9]])"
      ]
     },
     "execution_count": 29,
     "metadata": {},
     "output_type": "execute_result"
    }
   ],
   "source": [
    "reshaped"
   ]
  },
  {
   "cell_type": "code",
   "execution_count": 30,
   "id": "015bbc67-4100-43d3-ba0a-9fadce113bb8",
   "metadata": {},
   "outputs": [
    {
     "data": {
      "text/plain": [
       "array([0, 1, 2, 3, 4, 5, 6, 7, 8, 9])"
      ]
     },
     "execution_count": 30,
     "metadata": {},
     "output_type": "execute_result"
    }
   ],
   "source": [
    "# To flatten an array\n",
    "reshaped.ravel()"
   ]
  },
  {
   "cell_type": "code",
   "execution_count": 31,
   "id": "4990f422-23af-46ee-915a-5dc1c165e18c",
   "metadata": {},
   "outputs": [
    {
     "data": {
      "text/plain": [
       "array([[0, 1],\n",
       "       [2, 3],\n",
       "       [4, 5],\n",
       "       [6, 7],\n",
       "       [8, 9]])"
      ]
     },
     "execution_count": 31,
     "metadata": {},
     "output_type": "execute_result"
    }
   ],
   "source": [
    "reshaped"
   ]
  },
  {
   "cell_type": "code",
   "execution_count": 32,
   "id": "696899d2-aced-4d65-b690-00041fc2bbc9",
   "metadata": {},
   "outputs": [],
   "source": [
    "demo = np.array([1, 4, 2, 6, 9, 7, 3])"
   ]
  },
  {
   "cell_type": "code",
   "execution_count": 33,
   "id": "1a63cf4c-c252-4f56-8dfb-ab77e8890363",
   "metadata": {},
   "outputs": [
    {
     "data": {
      "text/plain": [
       "np.int64(4)"
      ]
     },
     "execution_count": 33,
     "metadata": {},
     "output_type": "execute_result"
    }
   ],
   "source": [
    "# For getting the max element index\n",
    "demo.argmax()"
   ]
  },
  {
   "cell_type": "code",
   "execution_count": 34,
   "id": "79132b54-7654-417c-b682-a06f026eac71",
   "metadata": {},
   "outputs": [
    {
     "data": {
      "text/plain": [
       "array([0, 2, 6, 1, 3, 5, 4])"
      ]
     },
     "execution_count": 34,
     "metadata": {},
     "output_type": "execute_result"
    }
   ],
   "source": [
    "# Provides sorted order through indices\n",
    "demo.argsort()"
   ]
  },
  {
   "cell_type": "code",
   "execution_count": 35,
   "id": "b1600c02-5658-44f5-8068-d63b233ad3be",
   "metadata": {},
   "outputs": [
    {
     "data": {
      "text/plain": [
       "np.int64(0)"
      ]
     },
     "execution_count": 35,
     "metadata": {},
     "output_type": "execute_result"
    }
   ],
   "source": [
    "# For getting the min element index\n",
    "demo.argmin()"
   ]
  },
  {
   "cell_type": "code",
   "execution_count": 36,
   "id": "40299625-bf83-4975-be3e-88ec042ec57f",
   "metadata": {},
   "outputs": [
    {
     "data": {
      "text/plain": [
       "array([[1, 2, 3],\n",
       "       [4, 5, 6],\n",
       "       [7, 0, 1]])"
      ]
     },
     "execution_count": 36,
     "metadata": {},
     "output_type": "execute_result"
    }
   ],
   "source": [
    "x"
   ]
  },
  {
   "cell_type": "code",
   "execution_count": 37,
   "id": "46dbc65e-eb13-4b1a-b84c-00eed696b282",
   "metadata": {},
   "outputs": [
    {
     "data": {
      "text/plain": [
       "array([0, 2, 2])"
      ]
     },
     "execution_count": 37,
     "metadata": {},
     "output_type": "execute_result"
    }
   ],
   "source": [
    "x.argmin(axis = 0)"
   ]
  },
  {
   "cell_type": "code",
   "execution_count": 38,
   "id": "73ab73fc-1139-4502-bad7-a63954040b5b",
   "metadata": {},
   "outputs": [
    {
     "data": {
      "text/plain": [
       "array([2, 2, 0])"
      ]
     },
     "execution_count": 38,
     "metadata": {},
     "output_type": "execute_result"
    }
   ],
   "source": [
    "x.argmax(axis=1)"
   ]
  },
  {
   "cell_type": "code",
   "execution_count": 39,
   "id": "2793e003-5f7a-4d52-bd8c-e6a250b092da",
   "metadata": {},
   "outputs": [
    {
     "data": {
      "text/plain": [
       "array([[0, 2, 2],\n",
       "       [1, 0, 0],\n",
       "       [2, 1, 1]])"
      ]
     },
     "execution_count": 39,
     "metadata": {},
     "output_type": "execute_result"
    }
   ],
   "source": [
    "x.argsort(axis=0)"
   ]
  },
  {
   "cell_type": "markdown",
   "id": "0b46b17a-9243-48d1-8806-f25f35ce174b",
   "metadata": {},
   "source": [
    "### Matrix operations in numpy"
   ]
  },
  {
   "cell_type": "code",
   "execution_count": 40,
   "id": "dd0d5c29-c668-41a1-9be7-ff7d359b22a3",
   "metadata": {},
   "outputs": [],
   "source": [
    "m1 = np.array([[1, 2, 1], [0, 0, 0], [4, 3, 5]])"
   ]
  },
  {
   "cell_type": "code",
   "execution_count": 41,
   "id": "9920993f-ecf4-4988-9d05-2d47b7fb004b",
   "metadata": {},
   "outputs": [],
   "source": [
    "m2 = np.array([[1, 1, 1], [0, 0, 0], [2, 3, 2]])"
   ]
  },
  {
   "cell_type": "code",
   "execution_count": 42,
   "id": "750d2d5f-ca2f-4dc5-a50d-8b6157cf415d",
   "metadata": {},
   "outputs": [
    {
     "data": {
      "text/plain": [
       "array([[1, 2, 1],\n",
       "       [0, 0, 0],\n",
       "       [4, 3, 5]])"
      ]
     },
     "execution_count": 42,
     "metadata": {},
     "output_type": "execute_result"
    }
   ],
   "source": [
    "m1 "
   ]
  },
  {
   "cell_type": "code",
   "execution_count": 43,
   "id": "37e9d08a-498f-4feb-9d31-27f2c42907ed",
   "metadata": {},
   "outputs": [
    {
     "data": {
      "text/plain": [
       "array([[1, 1, 1],\n",
       "       [0, 0, 0],\n",
       "       [2, 3, 2]])"
      ]
     },
     "execution_count": 43,
     "metadata": {},
     "output_type": "execute_result"
    }
   ],
   "source": [
    "m2"
   ]
  },
  {
   "cell_type": "code",
   "execution_count": 44,
   "id": "c27bd7a2-8ee3-477b-94c1-7e119c9d595d",
   "metadata": {},
   "outputs": [
    {
     "data": {
      "text/plain": [
       "array([[2, 3, 2],\n",
       "       [0, 0, 0],\n",
       "       [6, 6, 7]])"
      ]
     },
     "execution_count": 44,
     "metadata": {},
     "output_type": "execute_result"
    }
   ],
   "source": [
    "# Note: These operations are performed on elements at same posistions\n",
    "m1 + m2"
   ]
  },
  {
   "cell_type": "code",
   "execution_count": 45,
   "id": "7ef07c58-0da1-452a-a3d6-13f819ee74f7",
   "metadata": {},
   "outputs": [
    {
     "data": {
      "text/plain": [
       "array([[ 1,  2,  1],\n",
       "       [ 0,  0,  0],\n",
       "       [ 8,  9, 10]])"
      ]
     },
     "execution_count": 45,
     "metadata": {},
     "output_type": "execute_result"
    }
   ],
   "source": [
    "m1 * m2"
   ]
  },
  {
   "cell_type": "code",
   "execution_count": 46,
   "id": "e04ad9f9-7bbe-4efe-a443-c9fbfac76581",
   "metadata": {},
   "outputs": [
    {
     "data": {
      "text/plain": [
       "array([[1.        , 1.41421356, 1.        ],\n",
       "       [0.        , 0.        , 0.        ],\n",
       "       [2.        , 1.73205081, 2.23606798]])"
      ]
     },
     "execution_count": 46,
     "metadata": {},
     "output_type": "execute_result"
    }
   ],
   "source": [
    "np.sqrt(m1)"
   ]
  },
  {
   "cell_type": "code",
   "execution_count": 47,
   "id": "0f7124fb-6008-4e59-b92d-759be44da9ff",
   "metadata": {},
   "outputs": [
    {
     "data": {
      "text/plain": [
       "array([[1, 2, 1],\n",
       "       [0, 0, 0],\n",
       "       [4, 3, 5]])"
      ]
     },
     "execution_count": 47,
     "metadata": {},
     "output_type": "execute_result"
    }
   ],
   "source": [
    "m1"
   ]
  },
  {
   "cell_type": "code",
   "execution_count": 48,
   "id": "8874977a-0554-470e-8a74-82749ca518cd",
   "metadata": {},
   "outputs": [
    {
     "data": {
      "text/plain": [
       "np.int64(16)"
      ]
     },
     "execution_count": 48,
     "metadata": {},
     "output_type": "execute_result"
    }
   ],
   "source": [
    "m1.sum()"
   ]
  },
  {
   "cell_type": "code",
   "execution_count": 49,
   "id": "7cf2a9d5-8f69-40e9-87d5-f5ee8863a9ed",
   "metadata": {},
   "outputs": [
    {
     "data": {
      "text/plain": [
       "np.int64(5)"
      ]
     },
     "execution_count": 49,
     "metadata": {},
     "output_type": "execute_result"
    }
   ],
   "source": [
    "m1.max()"
   ]
  },
  {
   "cell_type": "code",
   "execution_count": 50,
   "id": "58932cf9-42bd-4144-abd4-a8829cdf0a10",
   "metadata": {},
   "outputs": [
    {
     "data": {
      "text/plain": [
       "np.int64(0)"
      ]
     },
     "execution_count": 50,
     "metadata": {},
     "output_type": "execute_result"
    }
   ],
   "source": [
    "m1.min()"
   ]
  },
  {
   "cell_type": "code",
   "execution_count": 51,
   "id": "b33592e9-09b5-49f3-adf1-834ce5129dfc",
   "metadata": {},
   "outputs": [
    {
     "data": {
      "text/plain": [
       "array([ 4,  0, 12])"
      ]
     },
     "execution_count": 51,
     "metadata": {},
     "output_type": "execute_result"
    }
   ],
   "source": [
    "m1.sum(axis=1)"
   ]
  },
  {
   "cell_type": "code",
   "execution_count": 52,
   "id": "02070c8c-19c6-4b2c-98ce-213f0389e941",
   "metadata": {},
   "outputs": [
    {
     "data": {
      "text/plain": [
       "(array([0, 2, 2, 2]), array([1, 0, 1, 2]))"
      ]
     },
     "execution_count": 52,
     "metadata": {},
     "output_type": "execute_result"
    }
   ],
   "source": [
    "# This will return the row and column index where the conditions are true\n",
    "np.where(m1 > 1)"
   ]
  },
  {
   "cell_type": "code",
   "execution_count": 53,
   "id": "2e546092-d64e-4df5-93f5-c8f49cc028d6",
   "metadata": {},
   "outputs": [
    {
     "data": {
      "text/plain": [
       "array([2, 4, 3, 5])"
      ]
     },
     "execution_count": 53,
     "metadata": {},
     "output_type": "execute_result"
    }
   ],
   "source": [
    "m1[np.where(m1 > 1)]"
   ]
  },
  {
   "cell_type": "code",
   "execution_count": 54,
   "id": "6d7302ae-dbc1-4754-b28f-85bda2c641a3",
   "metadata": {},
   "outputs": [
    {
     "data": {
      "text/plain": [
       "np.int64(6)"
      ]
     },
     "execution_count": 54,
     "metadata": {},
     "output_type": "execute_result"
    }
   ],
   "source": [
    "np.count_nonzero(m1)"
   ]
  },
  {
   "cell_type": "code",
   "execution_count": 55,
   "id": "adaa14fe-1cc5-4fdd-bbb3-bd8c918a0e9a",
   "metadata": {},
   "outputs": [
    {
     "data": {
      "text/plain": [
       "(array([0, 0, 0, 2, 2, 2]), array([0, 1, 2, 0, 1, 2]))"
      ]
     },
     "execution_count": 55,
     "metadata": {},
     "output_type": "execute_result"
    }
   ],
   "source": [
    "np.nonzero(m1)"
   ]
  },
  {
   "cell_type": "markdown",
   "id": "a78ce4c8-8433-48da-b093-ceb3cb3e9a93",
   "metadata": {},
   "source": [
    "### Proof numpy takes less space"
   ]
  },
  {
   "cell_type": "code",
   "execution_count": 56,
   "id": "46dd602f-5275-4af8-ba38-550e9360b17b",
   "metadata": {},
   "outputs": [],
   "source": [
    "import sys"
   ]
  },
  {
   "cell_type": "code",
   "execution_count": 57,
   "id": "ccfb5942-308a-46e5-a97e-65fb17434616",
   "metadata": {},
   "outputs": [],
   "source": [
    "py_arr = [1, 3, 4, 5]"
   ]
  },
  {
   "cell_type": "code",
   "execution_count": 58,
   "id": "8f5a21a8-856f-42d2-8954-350501767fa5",
   "metadata": {},
   "outputs": [],
   "source": [
    "np_arr = np.array(py_arr)"
   ]
  },
  {
   "cell_type": "code",
   "execution_count": 59,
   "id": "77c5c223-327b-4d42-92da-617a843b087a",
   "metadata": {},
   "outputs": [
    {
     "data": {
      "text/plain": [
       "112"
      ]
     },
     "execution_count": 59,
     "metadata": {},
     "output_type": "execute_result"
    }
   ],
   "source": [
    "sys.getsizeof(1) * len(py_arr)"
   ]
  },
  {
   "cell_type": "code",
   "execution_count": 60,
   "id": "ccd27a87-f664-409f-a23e-f1b288c94c43",
   "metadata": {},
   "outputs": [
    {
     "data": {
      "text/plain": [
       "32"
      ]
     },
     "execution_count": 60,
     "metadata": {},
     "output_type": "execute_result"
    }
   ],
   "source": [
    "np_arr.itemsize * np_arr.size"
   ]
  },
  {
   "cell_type": "markdown",
   "id": "579bc685-65bd-467f-b41e-e390ce722440",
   "metadata": {},
   "source": [
    "### Numpy arrays are faster than python arrays "
   ]
  },
  {
   "cell_type": "code",
   "execution_count": 61,
   "id": "2717058c-3279-4335-af60-3f661f022b22",
   "metadata": {},
   "outputs": [],
   "source": [
    "import time"
   ]
  },
  {
   "cell_type": "code",
   "execution_count": 62,
   "id": "81f9e5ca-3971-44be-a83a-12ca256a787c",
   "metadata": {},
   "outputs": [
    {
     "name": "stdout",
     "output_type": "stream",
     "text": [
      "Python List time: 0.0334467887878418\n",
      "NumPy array time: 0.0015690326690673828\n"
     ]
    }
   ],
   "source": [
    "a = list(range(1000000))\n",
    "b = np.array(a)\n",
    "\n",
    "start = time.time()\n",
    "[x*2 for x in a]\n",
    "print(\"Python List time:\", time.time() - start)\n",
    "\n",
    "start = time.time()\n",
    "b*2\n",
    "print(\"NumPy array time:\", time.time() - start)"
   ]
  }
 ],
 "metadata": {
  "kernelspec": {
   "display_name": "Python 3 (ipykernel)",
   "language": "python",
   "name": "python3"
  },
  "language_info": {
   "codemirror_mode": {
    "name": "ipython",
    "version": 3
   },
   "file_extension": ".py",
   "mimetype": "text/x-python",
   "name": "python",
   "nbconvert_exporter": "python",
   "pygments_lexer": "ipython3",
   "version": "3.13.5"
  }
 },
 "nbformat": 4,
 "nbformat_minor": 5
}
